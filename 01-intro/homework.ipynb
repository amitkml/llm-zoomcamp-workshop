{
 "cells": [
  {
   "cell_type": "code",
   "execution_count": 1,
   "id": "24b1c947-f6a5-400c-885f-5a495821ea0f",
   "metadata": {},
   "outputs": [],
   "source": [
    "import openai\n",
    "from openai import OpenAI\n",
    "import pandas as pd"
   ]
  },
  {
   "cell_type": "code",
   "execution_count": 2,
   "id": "be435770",
   "metadata": {},
   "outputs": [
    {
     "data": {
      "text/plain": [
       "True"
      ]
     },
     "execution_count": 2,
     "metadata": {},
     "output_type": "execute_result"
    }
   ],
   "source": [
    "from dotenv import load_dotenv\n",
    "import os\n",
    "load_dotenv()  # This line brings all environment variables from .env into os.environ"
   ]
  },
  {
   "cell_type": "code",
   "execution_count": 3,
   "id": "510a6075",
   "metadata": {},
   "outputs": [],
   "source": [
    "Client = OpenAI()"
   ]
  },
  {
   "cell_type": "code",
   "execution_count": 4,
   "id": "0bd89f76-7ffc-41a7-b7ed-23ba21e7dd23",
   "metadata": {},
   "outputs": [],
   "source": [
    "response = Client.chat.completions.create(\n",
    "    model=\"gpt-4o\",\n",
    "    messages=[\n",
    "        {\"role\": \"user\",\n",
    "         \"content\": \"Is this too late to response?\" }\n",
    "    ]\n",
    ")"
   ]
  },
  {
   "cell_type": "code",
   "execution_count": 6,
   "id": "1f5b1363",
   "metadata": {},
   "outputs": [],
   "source": [
    "def extract_message_content(chat_completion):\n",
    "    # Iterate through the choices in the chat completion\n",
    "    for choice in chat_completion.choices:\n",
    "        # Extract the message content\n",
    "        message_content = choice.message.content\n",
    "        return message_content"
   ]
  },
  {
   "cell_type": "code",
   "execution_count": 7,
   "id": "6009700a",
   "metadata": {},
   "outputs": [
    {
     "data": {
      "text/plain": [
       "\"It sounds like you're asking whether a response is too late, but without more context it's difficult to provide a definite answer. The appropriateness of a response timing can depend on the specific situation, such as:\\n\\n- **Professional Settings:** Generally, it's best to respond to work emails and messages within 24-48 hours. If a response is delayed, a brief apology for the delay can help maintain professionalism.\\n  \\n- **Social Situations:** When responding to text messages from friends or family, the appropriate timing can vary based on the relationship and the context of the conversation. A simple acknowledgment of the delay, along with your response, is usually sufficient.\\n\\n- **Urgent Matters:** For urgent issues, it's best to respond as soon as possible. If you missed an urgent matter and are responding late, acknowledge the urgency right away and provide an explanation if necessary.\\n\\nIf you provide more details about the specific situation, I can give more tailored advice.\""
      ]
     },
     "execution_count": 7,
     "metadata": {},
     "output_type": "execute_result"
    }
   ],
   "source": [
    "extract_message_content(response)"
   ]
  },
  {
   "cell_type": "code",
   "execution_count": 3,
   "id": "35e96735-65da-4034-b9e2-114c16cd6236",
   "metadata": {},
   "outputs": [
    {
     "ename": "NameError",
     "evalue": "name 'response' is not defined",
     "output_type": "error",
     "traceback": [
      "\u001b[0;31m---------------------------------------------------------------------------\u001b[0m",
      "\u001b[0;31mNameError\u001b[0m                                 Traceback (most recent call last)",
      "Cell \u001b[0;32mIn[3], line 1\u001b[0m\n\u001b[0;32m----> 1\u001b[0m \u001b[38;5;28mprint\u001b[39m(\u001b[43mresponse\u001b[49m)\n",
      "\u001b[0;31mNameError\u001b[0m: name 'response' is not defined"
     ]
    }
   ],
   "source": []
  }
 ],
 "metadata": {
  "kernelspec": {
   "display_name": "Python 3 (ipykernel)",
   "language": "python",
   "name": "python3"
  },
  "language_info": {
   "codemirror_mode": {
    "name": "ipython",
    "version": 3
   },
   "file_extension": ".py",
   "mimetype": "text/x-python",
   "name": "python",
   "nbconvert_exporter": "python",
   "pygments_lexer": "ipython3",
   "version": "3.10.13"
  }
 },
 "nbformat": 4,
 "nbformat_minor": 5
}
