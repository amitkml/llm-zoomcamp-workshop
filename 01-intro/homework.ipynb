{
 "cells": [
  {
   "cell_type": "code",
   "execution_count": 3,
   "id": "24b1c947-f6a5-400c-885f-5a495821ea0f",
   "metadata": {},
   "outputs": [],
   "source": [
    "import openai\n",
    "from openai import OpenAI\n",
    "import pandas as pd"
   ]
  },
  {
   "cell_type": "code",
   "execution_count": 4,
   "id": "be435770",
   "metadata": {},
   "outputs": [
    {
     "data": {
      "text/plain": [
       "True"
      ]
     },
     "execution_count": 4,
     "metadata": {},
     "output_type": "execute_result"
    }
   ],
   "source": [
    "from dotenv import load_dotenv\n",
    "import os\n",
    "load_dotenv()  # This line brings all environment variables from .env into os.environ"
   ]
  },
  {
   "cell_type": "code",
   "execution_count": 5,
   "id": "510a6075",
   "metadata": {},
   "outputs": [],
   "source": [
    "Client = OpenAI()"
   ]
  },
  {
   "cell_type": "code",
   "execution_count": 6,
   "id": "0bd89f76-7ffc-41a7-b7ed-23ba21e7dd23",
   "metadata": {},
   "outputs": [],
   "source": [
    "response = Client.chat.completions.create(\n",
    "    model=\"gpt-4o\",\n",
    "    messages=[\n",
    "        {\"role\": \"user\",\n",
    "         \"content\": \"Is this too late to response?\" }\n",
    "    ]\n",
    ")"
   ]
  },
  {
   "cell_type": "code",
   "execution_count": 8,
   "id": "1f5b1363",
   "metadata": {},
   "outputs": [],
   "source": [
    "def extract_message_content(chat_completion):\n",
    "    # Iterate through the choices in the chat completion\n",
    "    for choice in chat_completion.choices:\n",
    "        # Extract the message content\n",
    "        message_content = choice.message.content\n",
    "        return message_content"
   ]
  },
  {
   "cell_type": "code",
   "execution_count": 9,
   "id": "6009700a",
   "metadata": {},
   "outputs": [
    {
     "data": {
      "text/plain": [
       "\"I'm sorry, but your question is a bit unclear. Are you asking if it's too late to respond to a specific situation or message? The appropriate timing for a response depends on the context. If you provide more details, I'd be happy to help you determine if it's too late to respond and offer advice on how to proceed.\""
      ]
     },
     "execution_count": 9,
     "metadata": {},
     "output_type": "execute_result"
    }
   ],
   "source": [
    "extract_message_content(response)"
   ]
  }
 ],
 "metadata": {
  "kernelspec": {
   "display_name": "Python 3 (ipykernel)",
   "language": "python",
   "name": "python3"
  },
  "language_info": {
   "codemirror_mode": {
    "name": "ipython",
    "version": 3
   },
   "file_extension": ".py",
   "mimetype": "text/x-python",
   "name": "python",
   "nbconvert_exporter": "python",
   "pygments_lexer": "ipython3",
   "version": "3.10.13"
  }
 },
 "nbformat": 4,
 "nbformat_minor": 5
}
